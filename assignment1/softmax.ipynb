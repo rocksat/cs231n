{
 "cells": [
  {
   "cell_type": "code",
   "execution_count": 11,
   "metadata": {},
   "outputs": [],
   "source": [
    "# from google.colab import drive\n",
    "#\n",
    "# drive.mount('/content/drive', force_remount=True)\n",
    "#\n",
    "# # enter the foldername in your Drive where you have saved the unzipped\n",
    "# # 'cs231n' folder containing the '.py', 'classifiers' and 'datasets'\n",
    "# # folders.\n",
    "# # e.g. 'cs231n/assignments/assignment1/cs231n/'\n",
    "# FOLDERNAME = None\n",
    "#\n",
    "# assert FOLDERNAME is not None, \"[!] Enter the foldername.\"\n",
    "#\n",
    "# %cd drive/My\\ Drive\n",
    "# %cp -r $FOLDERNAME ../../\n",
    "# %cd ../../\n",
    "# %cd cs231n/datasets/\n",
    "# !bash get_datasets.sh\n",
    "# %cd ../../"
   ]
  },
  {
   "cell_type": "markdown",
   "metadata": {
    "tags": [
     "pdf-title"
    ]
   },
   "source": [
    "# Softmax exercise\n",
    "\n",
    "*Complete and hand in this completed worksheet (including its outputs and any supporting code outside of the worksheet) with your assignment submission. For more details see the [assignments page](http://vision.stanford.edu/teaching/cs231n/assignments.html) on the course website.*\n",
    "\n",
    "This exercise is analogous to the SVM exercise. You will:\n",
    "\n",
    "- implement a fully-vectorized **loss function** for the Softmax classifier\n",
    "- implement the fully-vectorized expression for its **analytic gradient**\n",
    "- **check your implementation** with numerical gradient\n",
    "- use a validation set to **tune the learning rate and regularization** strength\n",
    "- **optimize** the loss function with **SGD**\n",
    "- **visualize** the final learned weights\n"
   ]
  },
  {
   "cell_type": "code",
   "execution_count": 12,
   "metadata": {
    "tags": [
     "pdf-ignore"
    ]
   },
   "outputs": [
    {
     "name": "stdout",
     "output_type": "stream",
     "text": [
      "The autoreload extension is already loaded. To reload it, use:\n",
      "  %reload_ext autoreload\n"
     ]
    }
   ],
   "source": [
    "import random\n",
    "import numpy as np\n",
    "from cs231n.data_utils import load_CIFAR10\n",
    "import matplotlib.pyplot as plt\n",
    "\n",
    "%matplotlib inline\n",
    "plt.rcParams['figure.figsize'] = (10.0, 8.0) # set default size of plots\n",
    "plt.rcParams['image.interpolation'] = 'nearest'\n",
    "plt.rcParams['image.cmap'] = 'gray'\n",
    "\n",
    "# for auto-reloading extenrnal modules\n",
    "# see http://stackoverflow.com/questions/1907993/autoreload-of-modules-in-ipython\n",
    "%load_ext autoreload\n",
    "%autoreload 2"
   ]
  },
  {
   "cell_type": "code",
   "execution_count": 13,
   "metadata": {
    "tags": [
     "pdf-ignore"
    ]
   },
   "outputs": [
    {
     "name": "stdout",
     "output_type": "stream",
     "text": [
      "Train data shape:  (49000, 3073)\n",
      "Train labels shape:  (49000,)\n",
      "Validation data shape:  (1000, 3073)\n",
      "Validation labels shape:  (1000,)\n",
      "Test data shape:  (1000, 3073)\n",
      "Test labels shape:  (1000,)\n",
      "dev data shape:  (500, 3073)\n",
      "dev labels shape:  (500,)\n"
     ]
    }
   ],
   "source": [
    "def get_CIFAR10_data(num_training=49000, num_validation=1000, num_test=1000, num_dev=500):\n",
    "    \"\"\"\n",
    "    Load the CIFAR-10 dataset from disk and perform preprocessing to prepare\n",
    "    it for the linear classifier. These are the same steps as we used for the\n",
    "    SVM, but condensed to a single function.  \n",
    "    \"\"\"\n",
    "    # Load the raw CIFAR-10 data\n",
    "    cifar10_dir = 'cs231n/datasets/cifar-10-batches-py'\n",
    "    \n",
    "    # Cleaning up variables to prevent loading data multiple times (which may cause memory issue)\n",
    "    try:\n",
    "       del X_train, y_train\n",
    "       del X_test, y_test\n",
    "       print('Clear previously loaded data.')\n",
    "    except:\n",
    "       pass\n",
    "\n",
    "    X_train, y_train, X_test, y_test = load_CIFAR10(cifar10_dir)\n",
    "    \n",
    "    # subsample the data\n",
    "    mask = list(range(num_training, num_training + num_validation))\n",
    "    X_val = X_train[mask]\n",
    "    y_val = y_train[mask]\n",
    "    mask = list(range(num_training))\n",
    "    X_train = X_train[mask]\n",
    "    y_train = y_train[mask]\n",
    "    mask = list(range(num_test))\n",
    "    X_test = X_test[mask]\n",
    "    y_test = y_test[mask]\n",
    "    mask = np.random.choice(num_training, num_dev, replace=False)\n",
    "    X_dev = X_train[mask]\n",
    "    y_dev = y_train[mask]\n",
    "    \n",
    "    # Preprocessing: reshape the image data into rows\n",
    "    X_train = np.reshape(X_train, (X_train.shape[0], -1))\n",
    "    X_val = np.reshape(X_val, (X_val.shape[0], -1))\n",
    "    X_test = np.reshape(X_test, (X_test.shape[0], -1))\n",
    "    X_dev = np.reshape(X_dev, (X_dev.shape[0], -1))\n",
    "    \n",
    "    # Normalize the data: subtract the mean image\n",
    "    mean_image = np.mean(X_train, axis = 0)\n",
    "    X_train -= mean_image\n",
    "    X_val -= mean_image\n",
    "    X_test -= mean_image\n",
    "    X_dev -= mean_image\n",
    "    \n",
    "    # add bias dimension and transform into columns\n",
    "    X_train = np.hstack([X_train, np.ones((X_train.shape[0], 1))])\n",
    "    X_val = np.hstack([X_val, np.ones((X_val.shape[0], 1))])\n",
    "    X_test = np.hstack([X_test, np.ones((X_test.shape[0], 1))])\n",
    "    X_dev = np.hstack([X_dev, np.ones((X_dev.shape[0], 1))])\n",
    "    \n",
    "    return X_train, y_train, X_val, y_val, X_test, y_test, X_dev, y_dev\n",
    "\n",
    "\n",
    "# Invoke the above function to get our data.\n",
    "X_train, y_train, X_val, y_val, X_test, y_test, X_dev, y_dev = get_CIFAR10_data()\n",
    "print('Train data shape: ', X_train.shape)\n",
    "print('Train labels shape: ', y_train.shape)\n",
    "print('Validation data shape: ', X_val.shape)\n",
    "print('Validation labels shape: ', y_val.shape)\n",
    "print('Test data shape: ', X_test.shape)\n",
    "print('Test labels shape: ', y_test.shape)\n",
    "print('dev data shape: ', X_dev.shape)\n",
    "print('dev labels shape: ', y_dev.shape)"
   ]
  },
  {
   "cell_type": "markdown",
   "metadata": {},
   "source": [
    "## Softmax Classifier\n",
    "\n",
    "Your code for this section will all be written inside `cs231n/classifiers/softmax.py`.\n"
   ]
  },
  {
   "cell_type": "code",
   "execution_count": 14,
   "metadata": {},
   "outputs": [
    {
     "name": "stdout",
     "output_type": "stream",
     "text": [
      "loss: 2.344256\n",
      "sanity check: 2.302585\n"
     ]
    }
   ],
   "source": [
    "# First implement the naive softmax loss function with nested loops.\n",
    "# Open the file cs231n/classifiers/softmax.py and implement the\n",
    "# softmax_loss_naive function.\n",
    "\n",
    "from cs231n.classifiers.softmax import softmax_loss_naive\n",
    "import time\n",
    "\n",
    "# Generate a random softmax weight matrix and use it to compute the loss.\n",
    "W = np.random.randn(3073, 10) * 0.0001\n",
    "loss, grad = softmax_loss_naive(W, X_dev, y_dev, 0.0)\n",
    "\n",
    "# As a rough sanity check, our loss should be something close to -log(0.1).\n",
    "print('loss: %f' % loss)\n",
    "print('sanity check: %f' % (-np.log(0.1)))"
   ]
  },
  {
   "cell_type": "markdown",
   "metadata": {
    "tags": [
     "pdf-inline"
    ]
   },
   "source": [
    "**Inline Question 1**\n",
    "\n",
    "Why do we expect our loss to be close to -log(0.1)? Explain briefly.**\n",
    "\n",
    "$\\color{blue}{\\textit Your Answer:}$ *Fill this in* \n",
    "\n"
   ]
  },
  {
   "cell_type": "code",
   "execution_count": 15,
   "metadata": {},
   "outputs": [
    {
     "name": "stdout",
     "output_type": "stream",
     "text": [
      "numerical: 1.271891 analytic: 1.271891, relative error: 2.696035e-08\n",
      "numerical: 0.107780 analytic: 0.107781, relative error: 3.309980e-07\n",
      "numerical: 1.354073 analytic: 1.354073, relative error: 8.158451e-09\n",
      "numerical: -0.356200 analytic: -0.356200, relative error: 6.016909e-08\n",
      "numerical: -0.466413 analytic: -0.466413, relative error: 4.511707e-08\n",
      "numerical: -0.756604 analytic: -0.756604, relative error: 9.227392e-09\n",
      "numerical: -0.693183 analytic: -0.693183, relative error: 5.869022e-08\n",
      "numerical: 0.298246 analytic: 0.298246, relative error: 4.225491e-08\n",
      "numerical: -0.684492 analytic: -0.684492, relative error: 1.771591e-07\n",
      "numerical: 4.760278 analytic: 4.760278, relative error: 1.394565e-08\n",
      "numerical: 1.278293 analytic: 1.278293, relative error: 2.652034e-08\n",
      "numerical: -0.427317 analytic: -0.427317, relative error: 9.763059e-08\n",
      "numerical: -1.275420 analytic: -1.275420, relative error: 1.899894e-08\n",
      "numerical: 0.918215 analytic: 0.918215, relative error: 7.655727e-08\n",
      "numerical: -5.162233 analytic: -5.162233, relative error: 1.543361e-08\n",
      "numerical: -0.577096 analytic: -0.577096, relative error: 8.524131e-09\n",
      "numerical: 3.861851 analytic: 3.861851, relative error: 2.270016e-08\n",
      "numerical: -1.111872 analytic: -1.111872, relative error: 2.278550e-08\n",
      "numerical: -0.029186 analytic: -0.029186, relative error: 5.124701e-07\n",
      "numerical: 2.231692 analytic: 2.231692, relative error: 1.169821e-08\n"
     ]
    }
   ],
   "source": [
    "# Complete the implementation of softmax_loss_naive and implement a (naive)\n",
    "# version of the gradient that uses nested loops.\n",
    "loss, grad = softmax_loss_naive(W, X_dev, y_dev, 0.0)\n",
    "\n",
    "# As we did for the SVM, use numeric gradient checking as a debugging tool.\n",
    "# The numeric gradient should be close to the analytic gradient.\n",
    "from cs231n.gradient_check import grad_check_sparse\n",
    "f = lambda w: softmax_loss_naive(w, X_dev, y_dev, 0.0)[0]\n",
    "grad_numerical = grad_check_sparse(f, W, grad, 10)\n",
    "\n",
    "# similar to SVM case, do another gradient check with regularization\n",
    "loss, grad = softmax_loss_naive(W, X_dev, y_dev, 5e1)\n",
    "f = lambda w: softmax_loss_naive(w, X_dev, y_dev, 5e1)[0]\n",
    "grad_numerical = grad_check_sparse(f, W, grad, 10)"
   ]
  },
  {
   "cell_type": "code",
   "execution_count": 16,
   "metadata": {},
   "outputs": [
    {
     "name": "stdout",
     "output_type": "stream",
     "text": [
      "naive loss: 2.344256e+00 computed in 0.050252s\n",
      "vectorized loss: 2.344256e+00 computed in 0.006904s\n",
      "Loss difference: 0.000000\n",
      "Gradient difference: 0.000000\n"
     ]
    }
   ],
   "source": [
    "# Now that we have a naive implementation of the softmax loss function and its gradient,\n",
    "# implement a vectorized version in softmax_loss_vectorized.\n",
    "# The two versions should compute the same results, but the vectorized version should be\n",
    "# much faster.\n",
    "tic = time.time()\n",
    "loss_naive, grad_naive = softmax_loss_naive(W, X_dev, y_dev, 0.000005)\n",
    "toc = time.time()\n",
    "print('naive loss: %e computed in %fs' % (loss_naive, toc - tic))\n",
    "\n",
    "from cs231n.classifiers.softmax import softmax_loss_vectorized\n",
    "tic = time.time()\n",
    "loss_vectorized, grad_vectorized = softmax_loss_vectorized(W, X_dev, y_dev, 0.000005)\n",
    "toc = time.time()\n",
    "print('vectorized loss: %e computed in %fs' % (loss_vectorized, toc - tic))\n",
    "\n",
    "# As we did for the SVM, we use the Frobenius norm to compare the two versions\n",
    "# of the gradient.\n",
    "grad_difference = np.linalg.norm(grad_naive - grad_vectorized, ord='fro')\n",
    "print('Loss difference: %f' % np.abs(loss_naive - loss_vectorized))\n",
    "print('Gradient difference: %f' % grad_difference)"
   ]
  },
  {
   "cell_type": "code",
   "execution_count": 17,
   "metadata": {
    "id": "tuning",
    "tags": [
     "code"
    ]
   },
   "outputs": [
    {
     "name": "stdout",
     "output_type": "stream",
     "text": [
      "iteration 0 / 3000: loss 769.088389\n",
      "iteration 100 / 3000: loss 282.528019\n",
      "iteration 200 / 3000: loss 104.812445\n",
      "iteration 300 / 3000: loss 39.724068\n",
      "iteration 400 / 3000: loss 15.882065\n",
      "iteration 500 / 3000: loss 7.104966\n",
      "iteration 600 / 3000: loss 4.005070\n",
      "iteration 700 / 3000: loss 2.753427\n",
      "iteration 800 / 3000: loss 2.353335\n",
      "iteration 900 / 3000: loss 2.200433\n",
      "iteration 1000 / 3000: loss 2.099454\n",
      "iteration 1100 / 3000: loss 2.130634\n",
      "iteration 1200 / 3000: loss 2.111006\n",
      "iteration 1300 / 3000: loss 2.133431\n",
      "iteration 1400 / 3000: loss 2.105879\n",
      "iteration 1500 / 3000: loss 2.049110\n",
      "iteration 1600 / 3000: loss 2.067113\n",
      "iteration 1700 / 3000: loss 2.085395\n",
      "iteration 1800 / 3000: loss 2.099297\n",
      "iteration 1900 / 3000: loss 2.090861\n",
      "iteration 2000 / 3000: loss 2.075844\n",
      "iteration 2100 / 3000: loss 2.082855\n",
      "iteration 2200 / 3000: loss 2.104572\n",
      "iteration 2300 / 3000: loss 2.106589\n",
      "iteration 2400 / 3000: loss 2.119697\n",
      "iteration 2500 / 3000: loss 2.079739\n",
      "iteration 2600 / 3000: loss 2.059331\n",
      "iteration 2700 / 3000: loss 2.034746\n",
      "iteration 2800 / 3000: loss 2.086524\n",
      "iteration 2900 / 3000: loss 2.086382\n",
      "iteration 0 / 3000: loss 1560.629555\n",
      "iteration 100 / 3000: loss 209.988093\n",
      "iteration 200 / 3000: loss 29.920126\n",
      "iteration 300 / 3000: loss 5.859146\n",
      "iteration 400 / 3000: loss 2.621588\n",
      "iteration 500 / 3000: loss 2.181264\n",
      "iteration 600 / 3000: loss 2.147105\n",
      "iteration 700 / 3000: loss 2.119717\n",
      "iteration 800 / 3000: loss 2.153666\n",
      "iteration 900 / 3000: loss 2.132584\n",
      "iteration 1000 / 3000: loss 2.168578\n",
      "iteration 1100 / 3000: loss 2.105185\n",
      "iteration 1200 / 3000: loss 2.115546\n",
      "iteration 1300 / 3000: loss 2.138700\n",
      "iteration 1400 / 3000: loss 2.123209\n",
      "iteration 1500 / 3000: loss 2.126171\n",
      "iteration 1600 / 3000: loss 2.140444\n",
      "iteration 1700 / 3000: loss 2.138257\n",
      "iteration 1800 / 3000: loss 2.197393\n",
      "iteration 1900 / 3000: loss 2.096391\n",
      "iteration 2000 / 3000: loss 2.122778\n",
      "iteration 2100 / 3000: loss 2.200875\n",
      "iteration 2200 / 3000: loss 2.143150\n",
      "iteration 2300 / 3000: loss 2.106219\n",
      "iteration 2400 / 3000: loss 2.174393\n",
      "iteration 2500 / 3000: loss 2.095915\n",
      "iteration 2600 / 3000: loss 2.167204\n",
      "iteration 2700 / 3000: loss 2.133581\n",
      "iteration 2800 / 3000: loss 2.144776\n",
      "iteration 2900 / 3000: loss 2.124335\n",
      "iteration 0 / 3000: loss 772.396682\n",
      "iteration 100 / 3000: loss 6.844864\n",
      "iteration 200 / 3000: loss 2.179986\n",
      "iteration 300 / 3000: loss 2.111071\n",
      "iteration 400 / 3000: loss 2.057968\n",
      "iteration 500 / 3000: loss 2.079318\n",
      "iteration 600 / 3000: loss 2.126533\n",
      "iteration 700 / 3000: loss 2.090670\n",
      "iteration 800 / 3000: loss 2.056142\n",
      "iteration 900 / 3000: loss 2.063464\n",
      "iteration 1000 / 3000: loss 2.040150\n",
      "iteration 1100 / 3000: loss 2.054600\n",
      "iteration 1200 / 3000: loss 2.102953\n",
      "iteration 1300 / 3000: loss 2.136616\n",
      "iteration 1400 / 3000: loss 2.052721\n",
      "iteration 1500 / 3000: loss 2.110947\n",
      "iteration 1600 / 3000: loss 2.109403\n",
      "iteration 1700 / 3000: loss 2.099255\n",
      "iteration 1800 / 3000: loss 2.122413\n",
      "iteration 1900 / 3000: loss 2.101120\n",
      "iteration 2000 / 3000: loss 2.067154\n",
      "iteration 2100 / 3000: loss 2.131328\n",
      "iteration 2200 / 3000: loss 2.155391\n",
      "iteration 2300 / 3000: loss 2.112925\n",
      "iteration 2400 / 3000: loss 2.088806\n",
      "iteration 2500 / 3000: loss 2.031018\n",
      "iteration 2600 / 3000: loss 2.075794\n",
      "iteration 2700 / 3000: loss 2.089735\n",
      "iteration 2800 / 3000: loss 2.132105\n",
      "iteration 2900 / 3000: loss 2.096192\n",
      "iteration 0 / 3000: loss 1560.237082\n",
      "iteration 100 / 3000: loss 2.202381\n",
      "iteration 200 / 3000: loss 2.123165\n",
      "iteration 300 / 3000: loss 2.130556\n",
      "iteration 400 / 3000: loss 2.153985\n",
      "iteration 500 / 3000: loss 2.166995\n",
      "iteration 600 / 3000: loss 2.132767\n",
      "iteration 700 / 3000: loss 2.183253\n",
      "iteration 800 / 3000: loss 2.140604\n",
      "iteration 900 / 3000: loss 2.163238\n",
      "iteration 1000 / 3000: loss 2.103462\n",
      "iteration 1100 / 3000: loss 2.143872\n",
      "iteration 1200 / 3000: loss 2.125078\n",
      "iteration 1300 / 3000: loss 2.154905\n",
      "iteration 1400 / 3000: loss 2.159856\n",
      "iteration 1500 / 3000: loss 2.158523\n",
      "iteration 1600 / 3000: loss 2.142951\n",
      "iteration 1700 / 3000: loss 2.132863\n",
      "iteration 1800 / 3000: loss 2.175487\n",
      "iteration 1900 / 3000: loss 2.131636\n",
      "iteration 2000 / 3000: loss 2.159299\n",
      "iteration 2100 / 3000: loss 2.182615\n",
      "iteration 2200 / 3000: loss 2.127585\n",
      "iteration 2300 / 3000: loss 2.153411\n",
      "iteration 2400 / 3000: loss 2.168931\n",
      "iteration 2500 / 3000: loss 2.153085\n",
      "iteration 2600 / 3000: loss 2.146457\n",
      "iteration 2700 / 3000: loss 2.152023\n",
      "iteration 2800 / 3000: loss 2.187245\n",
      "iteration 2900 / 3000: loss 2.139917\n",
      "lr 1.000000e-07 reg 2.500000e+04 train accuracy: 0.333204 val accuracy: 0.342000\n",
      "lr 1.000000e-07 reg 5.000000e+04 train accuracy: 0.307082 val accuracy: 0.323000\n",
      "lr 5.000000e-07 reg 2.500000e+04 train accuracy: 0.319041 val accuracy: 0.335000\n",
      "lr 5.000000e-07 reg 5.000000e+04 train accuracy: 0.304510 val accuracy: 0.327000\n",
      "best validation accuracy achieved during cross-validation: 0.342000\n"
     ]
    }
   ],
   "source": [
    "# Use the validation set to tune hyperparameters (regularization strength and\n",
    "# learning rate). You should experiment with different ranges for the learning\n",
    "# rates and regularization strengths; if you are careful you should be able to\n",
    "# get a classification accuracy of over 0.35 on the validation set.\n",
    "\n",
    "from cs231n.classifiers import Softmax\n",
    "results = {}\n",
    "best_val = -1\n",
    "best_softmax = None\n",
    "\n",
    "################################################################################\n",
    "# TODO:                                                                        #\n",
    "# Use the validation set to set the learning rate and regularization strength. #\n",
    "# This should be identical to the validation that you did for the SVM; save    #\n",
    "# the best trained softmax classifer in best_softmax.                          #\n",
    "################################################################################\n",
    "\n",
    "# Provided as a reference. You may or may not want to change these hyperparameters\n",
    "learning_rates = [1e-7, 5e-7]\n",
    "regularization_strengths = [2.5e4, 5e4]\n",
    "\n",
    "# *****START OF YOUR CODE (DO NOT DELETE/MODIFY THIS LINE)*****\n",
    "for lr in learning_rates:\n",
    "    for reg in regularization_strengths:\n",
    "        softmax = Softmax()\n",
    "        softmax.train(X_train, y_train, learning_rate=lr, reg=reg,\n",
    "                      verbose=True, num_iters=3000)\n",
    "        train_accuracy = np.mean(softmax.predict(X_train) == y_train)\n",
    "        val_accuracy = np.mean(softmax.predict(X_val) == y_val)\n",
    "        results[(lr, reg)] = (train_accuracy, val_accuracy)\n",
    "        if val_accuracy > best_val:\n",
    "            best_val = val_accuracy\n",
    "            best_softmax = softmax\n",
    "\n",
    "# *****END OF YOUR CODE (DO NOT DELETE/MODIFY THIS LINE)*****\n",
    "    \n",
    "# Print out results.\n",
    "for lr, reg in sorted(results):\n",
    "    train_accuracy, val_accuracy = results[(lr, reg)]\n",
    "    print('lr %e reg %e train accuracy: %f val accuracy: %f' % (\n",
    "                lr, reg, train_accuracy, val_accuracy))\n",
    "    \n",
    "print('best validation accuracy achieved during cross-validation: %f' % best_val)"
   ]
  },
  {
   "cell_type": "code",
   "execution_count": 18,
   "metadata": {
    "id": "test"
   },
   "outputs": [
    {
     "name": "stdout",
     "output_type": "stream",
     "text": [
      "softmax on raw pixels final test set accuracy: 0.346000\n"
     ]
    }
   ],
   "source": [
    "# evaluate on test set\n",
    "# Evaluate the best softmax on test set\n",
    "y_test_pred = best_softmax.predict(X_test)\n",
    "test_accuracy = np.mean(y_test == y_test_pred)\n",
    "print('softmax on raw pixels final test set accuracy: %f' % (test_accuracy, ))"
   ]
  },
  {
   "cell_type": "markdown",
   "metadata": {
    "tags": [
     "pdf-inline"
    ]
   },
   "source": [
    "**Inline Question 2** - *True or False*\n",
    "\n",
    "Suppose the overall training loss is defined as the sum of the per-datapoint loss over all training examples. It is possible to add a new datapoint to a training set that would leave the SVM loss unchanged, but this is not the case with the Softmax classifier loss.\n",
    "\n",
    "$\\color{blue}{\\textit Your Answer:}$\n",
    "\n",
    "\n",
    "$\\color{blue}{\\textit Your Explanation:}$\n",
    "\n"
   ]
  },
  {
   "cell_type": "code",
   "execution_count": 19,
   "metadata": {},
   "outputs": [
    {
     "data": {
      "image/png": "[encoded data removed]",
      "text/plain": [
       "<Figure size 720x576 with 10 Axes>"
      ]
     },
     "metadata": {
      "needs_background": "light"
     },
     "output_type": "display_data"
    }
   ],
   "source": [
    "# Visualize the learned weights for each class\n",
    "w = best_softmax.W[:-1,:] # strip out the bias\n",
    "w = w.reshape(32, 32, 3, 10)\n",
    "\n",
    "w_min, w_max = np.min(w), np.max(w)\n",
    "\n",
    "classes = ['plane', 'car', 'bird', 'cat', 'deer', 'dog', 'frog', 'horse', 'ship', 'truck']\n",
    "for i in range(10):\n",
    "    plt.subplot(2, 5, i + 1)\n",
    "    \n",
    "    # Rescale the weights to be between 0 and 255\n",
    "    wimg = 255.0 * (w[:, :, :, i].squeeze() - w_min) / (w_max - w_min)\n",
    "    plt.imshow(wimg.astype('uint8'))\n",
    "    plt.axis('off')\n",
    "    plt.title(classes[i])"
   ]
  },
  {
   "cell_type": "code",
   "execution_count": null,
   "metadata": {},
   "outputs": [],
   "source": []
  },
  {
   "cell_type": "markdown",
   "metadata": {},
   "source": [
    "---\n",
    "# IMPORTANT\n",
    "\n",
    "This is the end of this question. Please do the following:\n",
    "\n",
    "1. Click `File -> Save` to make sure the latest checkpoint of this notebook is saved to your Drive.\n",
    "2. Execute the cell below to download the modified `.py` files back to your drive."
   ]
  },
  {
   "cell_type": "code",
   "execution_count": 20,
   "metadata": {},
   "outputs": [],
   "source": [
    "# import os\n",
    "# \n",
    "# FOLDER_TO_SAVE = os.path.join('drive/My Drive/', FOLDERNAME)\n",
    "# FILES_TO_SAVE = ['cs231n/classifiers/softmax.py']\n",
    "# \n",
    "# for files in FILES_TO_SAVE:\n",
    "#   with open(os.path.join(FOLDER_TO_SAVE, '/'.join(files.split('/')[1:])), 'w') as f:\n",
    "#     f.write(''.join(open(files).readlines()))"
   ]
  }
 ],
 "metadata": {
  "kernelspec": {
   "display_name": "Python 3",
   "language": "python",
   "name": "python3"
  },
  "language_info": {
   "codemirror_mode": {
    "name": "ipython",
    "version": 3
   },
   "file_extension": ".py",
   "mimetype": "text/x-python",
   "name": "python",
   "nbconvert_exporter": "python",
   "pygments_lexer": "ipython3",
   "version": "3.7.7"
  }
 },
 "nbformat": 4,
 "nbformat_minor": 4
}
