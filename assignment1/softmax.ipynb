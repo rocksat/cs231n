{
 "cells": [
  {
   "cell_type": "code",
   "execution_count": 1,
   "metadata": {},
   "outputs": [],
   "source": [
    "# from google.colab import drive\n",
    "#\n",
    "# drive.mount('/content/drive', force_remount=True)\n",
    "#\n",
    "# # enter the foldername in your Drive where you have saved the unzipped\n",
    "# # 'cs231n' folder containing the '.py', 'classifiers' and 'datasets'\n",
    "# # folders.\n",
    "# # e.g. 'cs231n/assignments/assignment1/cs231n/'\n",
    "# FOLDERNAME = None\n",
    "#\n",
    "# assert FOLDERNAME is not None, \"[!] Enter the foldername.\"\n",
    "#\n",
    "# %cd drive/My\\ Drive\n",
    "# %cp -r $FOLDERNAME ../../\n",
    "# %cd ../../\n",
    "# %cd cs231n/datasets/\n",
    "# !bash get_datasets.sh\n",
    "# %cd ../../"
   ]
  },
  {
   "cell_type": "markdown",
   "metadata": {
    "tags": [
     "pdf-title"
    ]
   },
   "source": [
    "# Softmax exercise\n",
    "\n",
    "*Complete and hand in this completed worksheet (including its outputs and any supporting code outside of the worksheet) with your assignment submission. For more details see the [assignments page](http://vision.stanford.edu/teaching/cs231n/assignments.html) on the course website.*\n",
    "\n",
    "This exercise is analogous to the SVM exercise. You will:\n",
    "\n",
    "- implement a fully-vectorized **loss function** for the Softmax classifier\n",
    "- implement the fully-vectorized expression for its **analytic gradient**\n",
    "- **check your implementation** with numerical gradient\n",
    "- use a validation set to **tune the learning rate and regularization** strength\n",
    "- **optimize** the loss function with **SGD**\n",
    "- **visualize** the final learned weights\n"
   ]
  },
  {
   "cell_type": "code",
   "execution_count": 2,
   "metadata": {
    "tags": [
     "pdf-ignore"
    ]
   },
   "outputs": [],
   "source": [
    "import random\n",
    "import numpy as np\n",
    "from cs231n.data_utils import load_CIFAR10\n",
    "import matplotlib.pyplot as plt\n",
    "\n",
    "%matplotlib inline\n",
    "plt.rcParams['figure.figsize'] = (10.0, 8.0) # set default size of plots\n",
    "plt.rcParams['image.interpolation'] = 'nearest'\n",
    "plt.rcParams['image.cmap'] = 'gray'\n",
    "\n",
    "# for auto-reloading extenrnal modules\n",
    "# see http://stackoverflow.com/questions/1907993/autoreload-of-modules-in-ipython\n",
    "%load_ext autoreload\n",
    "%autoreload 2"
   ]
  },
  {
   "cell_type": "code",
   "execution_count": 3,
   "metadata": {
    "tags": [
     "pdf-ignore"
    ]
   },
   "outputs": [
    {
     "name": "stdout",
     "output_type": "stream",
     "text": [
      "Train data shape:  (49000, 3073)\n",
      "Train labels shape:  (49000,)\n",
      "Validation data shape:  (1000, 3073)\n",
      "Validation labels shape:  (1000,)\n",
      "Test data shape:  (1000, 3073)\n",
      "Test labels shape:  (1000,)\n",
      "dev data shape:  (500, 3073)\n",
      "dev labels shape:  (500,)\n"
     ]
    }
   ],
   "source": [
    "def get_CIFAR10_data(num_training=49000, num_validation=1000, num_test=1000, num_dev=500):\n",
    "    \"\"\"\n",
    "    Load the CIFAR-10 dataset from disk and perform preprocessing to prepare\n",
    "    it for the linear classifier. These are the same steps as we used for the\n",
    "    SVM, but condensed to a single function.  \n",
    "    \"\"\"\n",
    "    # Load the raw CIFAR-10 data\n",
    "    cifar10_dir = 'cs231n/datasets/cifar-10-batches-py'\n",
    "    \n",
    "    # Cleaning up variables to prevent loading data multiple times (which may cause memory issue)\n",
    "    try:\n",
    "       del X_train, y_train\n",
    "       del X_test, y_test\n",
    "       print('Clear previously loaded data.')\n",
    "    except:\n",
    "       pass\n",
    "\n",
    "    X_train, y_train, X_test, y_test = load_CIFAR10(cifar10_dir)\n",
    "    \n",
    "    # subsample the data\n",
    "    mask = list(range(num_training, num_training + num_validation))\n",
    "    X_val = X_train[mask]\n",
    "    y_val = y_train[mask]\n",
    "    mask = list(range(num_training))\n",
    "    X_train = X_train[mask]\n",
    "    y_train = y_train[mask]\n",
    "    mask = list(range(num_test))\n",
    "    X_test = X_test[mask]\n",
    "    y_test = y_test[mask]\n",
    "    mask = np.random.choice(num_training, num_dev, replace=False)\n",
    "    X_dev = X_train[mask]\n",
    "    y_dev = y_train[mask]\n",
    "    \n",
    "    # Preprocessing: reshape the image data into rows\n",
    "    X_train = np.reshape(X_train, (X_train.shape[0], -1))\n",
    "    X_val = np.reshape(X_val, (X_val.shape[0], -1))\n",
    "    X_test = np.reshape(X_test, (X_test.shape[0], -1))\n",
    "    X_dev = np.reshape(X_dev, (X_dev.shape[0], -1))\n",
    "    \n",
    "    # Normalize the data: subtract the mean image\n",
    "    mean_image = np.mean(X_train, axis = 0)\n",
    "    X_train -= mean_image\n",
    "    X_val -= mean_image\n",
    "    X_test -= mean_image\n",
    "    X_dev -= mean_image\n",
    "    \n",
    "    # add bias dimension and transform into columns\n",
    "    X_train = np.hstack([X_train, np.ones((X_train.shape[0], 1))])\n",
    "    X_val = np.hstack([X_val, np.ones((X_val.shape[0], 1))])\n",
    "    X_test = np.hstack([X_test, np.ones((X_test.shape[0], 1))])\n",
    "    X_dev = np.hstack([X_dev, np.ones((X_dev.shape[0], 1))])\n",
    "    \n",
    "    return X_train, y_train, X_val, y_val, X_test, y_test, X_dev, y_dev\n",
    "\n",
    "\n",
    "# Invoke the above function to get our data.\n",
    "X_train, y_train, X_val, y_val, X_test, y_test, X_dev, y_dev = get_CIFAR10_data()\n",
    "print('Train data shape: ', X_train.shape)\n",
    "print('Train labels shape: ', y_train.shape)\n",
    "print('Validation data shape: ', X_val.shape)\n",
    "print('Validation labels shape: ', y_val.shape)\n",
    "print('Test data shape: ', X_test.shape)\n",
    "print('Test labels shape: ', y_test.shape)\n",
    "print('dev data shape: ', X_dev.shape)\n",
    "print('dev labels shape: ', y_dev.shape)"
   ]
  },
  {
   "cell_type": "markdown",
   "metadata": {},
   "source": [
    "## Softmax Classifier\n",
    "\n",
    "Your code for this section will all be written inside `cs231n/classifiers/softmax.py`.\n"
   ]
  },
  {
   "cell_type": "code",
   "execution_count": 4,
   "metadata": {},
   "outputs": [
    {
     "name": "stdout",
     "output_type": "stream",
     "text": [
      "loss: 2.408344\n",
      "sanity check: 2.302585\n"
     ]
    }
   ],
   "source": [
    "# First implement the naive softmax loss function with nested loops.\n",
    "# Open the file cs231n/classifiers/softmax.py and implement the\n",
    "# softmax_loss_naive function.\n",
    "\n",
    "from cs231n.classifiers.softmax import softmax_loss_naive\n",
    "import time\n",
    "\n",
    "# Generate a random softmax weight matrix and use it to compute the loss.\n",
    "W = np.random.randn(3073, 10) * 0.0001\n",
    "loss, grad = softmax_loss_naive(W, X_dev, y_dev, 0.0)\n",
    "\n",
    "# As a rough sanity check, our loss should be something close to -log(0.1).\n",
    "print('loss: %f' % loss)\n",
    "print('sanity check: %f' % (-np.log(0.1)))"
   ]
  },
  {
   "cell_type": "markdown",
   "metadata": {
    "tags": [
     "pdf-inline"
    ]
   },
   "source": [
    "**Inline Question 1**\n",
    "\n",
    "Why do we expect our loss to be close to -log(0.1)? Explain briefly.**\n",
    "\n",
    "$\\color{blue}{\\textit Your Answer:}$ \n",
    "\n",
    "Because the initial weight is randomly generated, so the probability of a image belong to each class should be equal. There are 10 classes here, for each the possibility is 0.1. So the expected loss with initial weight is $-log(0.1)$\n"
   ]
  },
  {
   "cell_type": "code",
   "execution_count": 5,
   "metadata": {},
   "outputs": [
    {
     "name": "stdout",
     "output_type": "stream",
     "text": [
      "numerical: 2.652127 analytic: 2.652127, relative error: 3.787981e-08\n",
      "numerical: -2.565140 analytic: -2.565140, relative error: 4.999490e-09\n",
      "numerical: 2.108717 analytic: 2.108717, relative error: 1.200016e-09\n",
      "numerical: 0.282413 analytic: 0.282413, relative error: 1.119501e-07\n",
      "numerical: -2.608355 analytic: -2.608355, relative error: 1.109725e-08\n",
      "numerical: -0.177181 analytic: -0.177181, relative error: 1.998608e-07\n",
      "numerical: 2.515985 analytic: 2.515984, relative error: 2.350370e-08\n",
      "numerical: 0.351726 analytic: 0.351726, relative error: 1.570948e-07\n",
      "numerical: -1.460257 analytic: -1.460257, relative error: 6.923320e-08\n",
      "numerical: 0.213107 analytic: 0.213107, relative error: 2.276612e-07\n",
      "numerical: 3.882076 analytic: 3.882076, relative error: 4.777295e-09\n",
      "numerical: 0.818587 analytic: 0.818587, relative error: 4.829094e-08\n",
      "numerical: -5.875147 analytic: -5.875147, relative error: 6.959453e-09\n",
      "numerical: 0.242900 analytic: 0.242900, relative error: 1.550955e-07\n",
      "numerical: 2.038266 analytic: 2.038266, relative error: 3.789663e-08\n",
      "numerical: -0.643731 analytic: -0.643731, relative error: 2.752044e-08\n",
      "numerical: 3.087104 analytic: 3.087104, relative error: 1.718053e-08\n",
      "numerical: -4.355318 analytic: -4.355318, relative error: 1.592901e-08\n",
      "numerical: 1.205447 analytic: 1.205447, relative error: 6.362401e-08\n",
      "numerical: 0.179128 analytic: 0.179127, relative error: 1.020302e-07\n"
     ]
    }
   ],
   "source": [
    "# Complete the implementation of softmax_loss_naive and implement a (naive)\n",
    "# version of the gradient that uses nested loops.\n",
    "loss, grad = softmax_loss_naive(W, X_dev, y_dev, 0.0)\n",
    "\n",
    "# As we did for the SVM, use numeric gradient checking as a debugging tool.\n",
    "# The numeric gradient should be close to the analytic gradient.\n",
    "from cs231n.gradient_check import grad_check_sparse\n",
    "f = lambda w: softmax_loss_naive(w, X_dev, y_dev, 0.0)[0]\n",
    "grad_numerical = grad_check_sparse(f, W, grad, 10)\n",
    "\n",
    "# similar to SVM case, do another gradient check with regularization\n",
    "loss, grad = softmax_loss_naive(W, X_dev, y_dev, 5e1)\n",
    "f = lambda w: softmax_loss_naive(w, X_dev, y_dev, 5e1)[0]\n",
    "grad_numerical = grad_check_sparse(f, W, grad, 10)"
   ]
  },
  {
   "cell_type": "code",
   "execution_count": 6,
   "metadata": {},
   "outputs": [
    {
     "name": "stdout",
     "output_type": "stream",
     "text": [
      "naive loss: 2.408344e+00 computed in 0.042420s\n",
      "vectorized loss: 2.408344e+00 computed in 0.004716s\n",
      "Loss difference: 0.000000\n",
      "Gradient difference: 0.000000\n"
     ]
    }
   ],
   "source": [
    "# Now that we have a naive implementation of the softmax loss function and its gradient,\n",
    "# implement a vectorized version in softmax_loss_vectorized.\n",
    "# The two versions should compute the same results, but the vectorized version should be\n",
    "# much faster.\n",
    "tic = time.time()\n",
    "loss_naive, grad_naive = softmax_loss_naive(W, X_dev, y_dev, 0.000005)\n",
    "toc = time.time()\n",
    "print('naive loss: %e computed in %fs' % (loss_naive, toc - tic))\n",
    "\n",
    "from cs231n.classifiers.softmax import softmax_loss_vectorized\n",
    "tic = time.time()\n",
    "loss_vectorized, grad_vectorized = softmax_loss_vectorized(W, X_dev, y_dev, 0.000005)\n",
    "toc = time.time()\n",
    "print('vectorized loss: %e computed in %fs' % (loss_vectorized, toc - tic))\n",
    "\n",
    "# As we did for the SVM, we use the Frobenius norm to compare the two versions\n",
    "# of the gradient.\n",
    "grad_difference = np.linalg.norm(grad_naive - grad_vectorized, ord='fro')\n",
    "print('Loss difference: %f' % np.abs(loss_naive - loss_vectorized))\n",
    "print('Gradient difference: %f' % grad_difference)"
   ]
  },
  {
   "cell_type": "code",
   "execution_count": 7,
   "metadata": {
    "id": "tuning",
    "tags": [
     "code"
    ]
   },
   "outputs": [
    {
     "name": "stdout",
     "output_type": "stream",
     "text": [
      "iteration 0 / 3000: loss 775.215336\n",
      "iteration 100 / 3000: loss 284.425389\n",
      "iteration 200 / 3000: loss 105.441177\n",
      "iteration 300 / 3000: loss 39.912491\n",
      "iteration 400 / 3000: loss 15.932751\n",
      "iteration 500 / 3000: loss 7.146501\n",
      "iteration 600 / 3000: loss 3.943634\n",
      "iteration 700 / 3000: loss 2.742121\n",
      "iteration 800 / 3000: loss 2.271104\n",
      "iteration 900 / 3000: loss 2.154573\n",
      "iteration 1000 / 3000: loss 2.098949\n",
      "iteration 1100 / 3000: loss 2.073110\n",
      "iteration 1200 / 3000: loss 2.081083\n",
      "iteration 1300 / 3000: loss 2.134099\n",
      "iteration 1400 / 3000: loss 2.035077\n",
      "iteration 1500 / 3000: loss 2.122315\n",
      "iteration 1600 / 3000: loss 2.132149\n",
      "iteration 1700 / 3000: loss 2.071272\n",
      "iteration 1800 / 3000: loss 2.054394\n",
      "iteration 1900 / 3000: loss 2.071069\n",
      "iteration 2000 / 3000: loss 2.116917\n",
      "iteration 2100 / 3000: loss 2.094814\n",
      "iteration 2200 / 3000: loss 2.027839\n",
      "iteration 2300 / 3000: loss 2.092995\n",
      "iteration 2400 / 3000: loss 2.018711\n",
      "iteration 2500 / 3000: loss 2.085676\n",
      "iteration 2600 / 3000: loss 2.086014\n",
      "iteration 2700 / 3000: loss 2.106865\n",
      "iteration 2800 / 3000: loss 2.077275\n",
      "iteration 2900 / 3000: loss 2.131597\n",
      "iteration 0 / 3000: loss 1542.478193\n",
      "iteration 100 / 3000: loss 207.739677\n",
      "iteration 200 / 3000: loss 29.559817\n",
      "iteration 300 / 3000: loss 5.824649\n",
      "iteration 400 / 3000: loss 2.675654\n",
      "iteration 500 / 3000: loss 2.207731\n",
      "iteration 600 / 3000: loss 2.138977\n",
      "iteration 700 / 3000: loss 2.132184\n",
      "iteration 800 / 3000: loss 2.184714\n",
      "iteration 900 / 3000: loss 2.156724\n",
      "iteration 1000 / 3000: loss 2.155745\n",
      "iteration 1100 / 3000: loss 2.124393\n",
      "iteration 1200 / 3000: loss 2.137978\n",
      "iteration 1300 / 3000: loss 2.116314\n",
      "iteration 1400 / 3000: loss 2.151384\n",
      "iteration 1500 / 3000: loss 2.117023\n",
      "iteration 1600 / 3000: loss 2.138700\n",
      "iteration 1700 / 3000: loss 2.147161\n",
      "iteration 1800 / 3000: loss 2.104031\n",
      "iteration 1900 / 3000: loss 2.148355\n",
      "iteration 2000 / 3000: loss 2.109934\n",
      "iteration 2100 / 3000: loss 2.123599\n",
      "iteration 2200 / 3000: loss 2.086019\n",
      "iteration 2300 / 3000: loss 2.174302\n",
      "iteration 2400 / 3000: loss 2.167633\n",
      "iteration 2500 / 3000: loss 2.190859\n",
      "iteration 2600 / 3000: loss 2.151335\n",
      "iteration 2700 / 3000: loss 2.140789\n",
      "iteration 2800 / 3000: loss 2.118258\n",
      "iteration 2900 / 3000: loss 2.133383\n",
      "iteration 0 / 3000: loss 778.703068\n",
      "iteration 100 / 3000: loss 6.949183\n",
      "iteration 200 / 3000: loss 2.181826\n",
      "iteration 300 / 3000: loss 2.105263\n",
      "iteration 400 / 3000: loss 2.075711\n",
      "iteration 500 / 3000: loss 2.101473\n",
      "iteration 600 / 3000: loss 2.114364\n",
      "iteration 700 / 3000: loss 2.075375\n",
      "iteration 800 / 3000: loss 2.029995\n",
      "iteration 900 / 3000: loss 2.092774\n",
      "iteration 1000 / 3000: loss 2.098348\n",
      "iteration 1100 / 3000: loss 2.090716\n",
      "iteration 1200 / 3000: loss 2.082147\n",
      "iteration 1300 / 3000: loss 2.100524\n",
      "iteration 1400 / 3000: loss 2.116520\n",
      "iteration 1500 / 3000: loss 2.101326\n",
      "iteration 1600 / 3000: loss 2.084627\n",
      "iteration 1700 / 3000: loss 2.145161\n",
      "iteration 1800 / 3000: loss 2.037428\n",
      "iteration 1900 / 3000: loss 2.106044\n",
      "iteration 2000 / 3000: loss 2.132573\n",
      "iteration 2100 / 3000: loss 2.115919\n",
      "iteration 2200 / 3000: loss 2.082979\n",
      "iteration 2300 / 3000: loss 2.102768\n",
      "iteration 2400 / 3000: loss 2.064252\n",
      "iteration 2500 / 3000: loss 2.078615\n",
      "iteration 2600 / 3000: loss 2.154617\n",
      "iteration 2700 / 3000: loss 2.080576\n",
      "iteration 2800 / 3000: loss 2.024483\n",
      "iteration 2900 / 3000: loss 2.121982\n",
      "iteration 0 / 3000: loss 1559.980832\n",
      "iteration 100 / 3000: loss 2.203037\n",
      "iteration 200 / 3000: loss 2.146318\n",
      "iteration 300 / 3000: loss 2.164612\n",
      "iteration 400 / 3000: loss 2.143634\n",
      "iteration 500 / 3000: loss 2.151340\n",
      "iteration 600 / 3000: loss 2.139954\n",
      "iteration 700 / 3000: loss 2.150253\n",
      "iteration 800 / 3000: loss 2.141797\n",
      "iteration 900 / 3000: loss 2.165140\n",
      "iteration 1000 / 3000: loss 2.139832\n",
      "iteration 1100 / 3000: loss 2.149773\n",
      "iteration 1200 / 3000: loss 2.151208\n",
      "iteration 1300 / 3000: loss 2.153756\n",
      "iteration 1400 / 3000: loss 2.118382\n",
      "iteration 1500 / 3000: loss 2.157347\n",
      "iteration 1600 / 3000: loss 2.132309\n",
      "iteration 1700 / 3000: loss 2.148288\n",
      "iteration 1800 / 3000: loss 2.132243\n",
      "iteration 1900 / 3000: loss 2.169322\n",
      "iteration 2000 / 3000: loss 2.172437\n",
      "iteration 2100 / 3000: loss 2.158040\n",
      "iteration 2200 / 3000: loss 2.170368\n",
      "iteration 2300 / 3000: loss 2.143255\n",
      "iteration 2400 / 3000: loss 2.163435\n",
      "iteration 2500 / 3000: loss 2.149169\n",
      "iteration 2600 / 3000: loss 2.133625\n",
      "iteration 2700 / 3000: loss 2.146305\n",
      "iteration 2800 / 3000: loss 2.139896\n",
      "iteration 2900 / 3000: loss 2.188728\n",
      "lr 1.000000e-07 reg 2.500000e+04 train accuracy: 0.331653 val accuracy: 0.355000\n",
      "lr 1.000000e-07 reg 5.000000e+04 train accuracy: 0.302510 val accuracy: 0.320000\n",
      "lr 5.000000e-07 reg 2.500000e+04 train accuracy: 0.319184 val accuracy: 0.336000\n",
      "lr 5.000000e-07 reg 5.000000e+04 train accuracy: 0.293816 val accuracy: 0.313000\n",
      "best validation accuracy achieved during cross-validation: 0.355000\n"
     ]
    }
   ],
   "source": [
    "# Use the validation set to tune hyperparameters (regularization strength and\n",
    "# learning rate). You should experiment with different ranges for the learning\n",
    "# rates and regularization strengths; if you are careful you should be able to\n",
    "# get a classification accuracy of over 0.35 on the validation set.\n",
    "\n",
    "from cs231n.classifiers import Softmax\n",
    "results = {}\n",
    "best_val = -1\n",
    "best_softmax = None\n",
    "\n",
    "################################################################################\n",
    "# TODO:                                                                        #\n",
    "# Use the validation set to set the learning rate and regularization strength. #\n",
    "# This should be identical to the validation that you did for the SVM; save    #\n",
    "# the best trained softmax classifer in best_softmax.                          #\n",
    "################################################################################\n",
    "\n",
    "# Provided as a reference. You may or may not want to change these hyperparameters\n",
    "learning_rates = [1e-7, 5e-7]\n",
    "regularization_strengths = [2.5e4, 5e4]\n",
    "\n",
    "# *****START OF YOUR CODE (DO NOT DELETE/MODIFY THIS LINE)*****\n",
    "for lr in learning_rates:\n",
    "    for reg in regularization_strengths:\n",
    "        softmax = Softmax()\n",
    "        softmax.train(X_train, y_train, learning_rate=lr, reg=reg,\n",
    "                      verbose=True, num_iters=3000)\n",
    "        train_accuracy = np.mean(softmax.predict(X_train) == y_train)\n",
    "        val_accuracy = np.mean(softmax.predict(X_val) == y_val)\n",
    "        results[(lr, reg)] = (train_accuracy, val_accuracy)\n",
    "        if val_accuracy > best_val:\n",
    "            best_val = val_accuracy\n",
    "            best_softmax = softmax\n",
    "\n",
    "# *****END OF YOUR CODE (DO NOT DELETE/MODIFY THIS LINE)*****\n",
    "    \n",
    "# Print out results.\n",
    "for lr, reg in sorted(results):\n",
    "    train_accuracy, val_accuracy = results[(lr, reg)]\n",
    "    print('lr %e reg %e train accuracy: %f val accuracy: %f' % (\n",
    "                lr, reg, train_accuracy, val_accuracy))\n",
    "    \n",
    "print('best validation accuracy achieved during cross-validation: %f' % best_val)"
   ]
  },
  {
   "cell_type": "code",
   "execution_count": 8,
   "metadata": {
    "id": "test"
   },
   "outputs": [
    {
     "name": "stdout",
     "output_type": "stream",
     "text": [
      "softmax on raw pixels final test set accuracy: 0.337000\n"
     ]
    }
   ],
   "source": [
    "# evaluate on test set\n",
    "# Evaluate the best softmax on test set\n",
    "y_test_pred = best_softmax.predict(X_test)\n",
    "test_accuracy = np.mean(y_test == y_test_pred)\n",
    "print('softmax on raw pixels final test set accuracy: %f' % (test_accuracy, ))"
   ]
  },
  {
   "cell_type": "markdown",
   "metadata": {
    "tags": [
     "pdf-inline"
    ]
   },
   "source": [
    "**Inline Question 2** - *True or False*\n",
    "\n",
    "Suppose the overall training loss is defined as the sum of the per-datapoint loss over all training examples. It is possible to add a new datapoint to a training set that would leave the SVM loss unchanged, but this is not the case with the Softmax classifier loss.\n",
    "\n",
    "$\\color{blue}{\\textit Your Answer:}$\n",
    "\n",
    "True\n",
    "\n",
    "$\\color{blue}{\\textit Your Explanation:}$\n",
    "\n",
    "For the SVM, the new datapoint would have $loss = 0$, if the score of correct class is larger than the score of rest class by a margin. For softmax, the loss is $-log(p_i)$, where $p_i$ is the possibility of correct class. Since $p_i$ will always be smaller than 1, $-log(p_i)$ will never be 0, so any new datapoints will add loss value to the overall loss of softmax classifier.\n",
    "\n"
   ]
  },
  {
   "cell_type": "code",
   "execution_count": 9,
   "metadata": {
    "scrolled": true
   },
   "outputs": [
    {
     "data": {
      "image/png": "[encoded data removed]",
      "text/plain": [
       "<Figure size 720x576 with 10 Axes>"
      ]
     },
     "metadata": {
      "needs_background": "light"
     },
     "output_type": "display_data"
    }
   ],
   "source": [
    "# Visualize the learned weights for each class\n",
    "w = best_softmax.W[:-1,:] # strip out the bias\n",
    "w = w.reshape(32, 32, 3, 10)\n",
    "\n",
    "w_min, w_max = np.min(w), np.max(w)\n",
    "\n",
    "classes = ['plane', 'car', 'bird', 'cat', 'deer', 'dog', 'frog', 'horse', 'ship', 'truck']\n",
    "for i in range(10):\n",
    "    plt.subplot(2, 5, i + 1)\n",
    "    \n",
    "    # Rescale the weights to be between 0 and 255\n",
    "    wimg = 255.0 * (w[:, :, :, i].squeeze() - w_min) / (w_max - w_min)\n",
    "    plt.imshow(wimg.astype('uint8'))\n",
    "    plt.axis('off')\n",
    "    plt.title(classes[i])"
   ]
  },
  {
   "cell_type": "markdown",
   "metadata": {},
   "source": [
    "---\n",
    "# IMPORTANT\n",
    "\n",
    "This is the end of this question. Please do the following:\n",
    "\n",
    "1. Click `File -> Save` to make sure the latest checkpoint of this notebook is saved to your Drive.\n",
    "2. Execute the cell below to download the modified `.py` files back to your drive."
   ]
  },
  {
   "cell_type": "code",
   "execution_count": 10,
   "metadata": {},
   "outputs": [],
   "source": [
    "# import os\n",
    "# \n",
    "# FOLDER_TO_SAVE = os.path.join('drive/My Drive/', FOLDERNAME)\n",
    "# FILES_TO_SAVE = ['cs231n/classifiers/softmax.py']\n",
    "# \n",
    "# for files in FILES_TO_SAVE:\n",
    "#   with open(os.path.join(FOLDER_TO_SAVE, '/'.join(files.split('/')[1:])), 'w') as f:\n",
    "#     f.write(''.join(open(files).readlines()))"
   ]
  }
 ],
 "metadata": {
  "kernelspec": {
   "display_name": "Python 3",
   "language": "python",
   "name": "python3"
  },
  "language_info": {
   "codemirror_mode": {
    "name": "ipython",
    "version": 3
   },
   "file_extension": ".py",
   "mimetype": "text/x-python",
   "name": "python",
   "nbconvert_exporter": "python",
   "pygments_lexer": "ipython3",
   "version": "3.7.7"
  }
 },
 "nbformat": 4,
 "nbformat_minor": 4
}
